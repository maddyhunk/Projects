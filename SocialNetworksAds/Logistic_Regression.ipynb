{
 "cells": [
  {
   "cell_type": "code",
   "execution_count": 1,
   "metadata": {
    "scrolled": true
   },
   "outputs": [],
   "source": [
    "#1 Importing the libraries\n",
    "import numpy as np\n",
    "import matplotlib.pyplot as plt\n",
    "import pandas as pd\n",
    "%matplotlib inline"
   ]
  },
  {
   "cell_type": "code",
   "execution_count": 2,
   "metadata": {},
   "outputs": [],
   "source": [
    "#2 Importing the dataset\n",
    "dataset = pd.read_csv('Social_Network_Ads.csv')"
   ]
  },
  {
   "cell_type": "code",
   "execution_count": 3,
   "metadata": {},
   "outputs": [
    {
     "data": {
      "text/html": [
       "<div>\n",
       "<style scoped>\n",
       "    .dataframe tbody tr th:only-of-type {\n",
       "        vertical-align: middle;\n",
       "    }\n",
       "\n",
       "    .dataframe tbody tr th {\n",
       "        vertical-align: top;\n",
       "    }\n",
       "\n",
       "    .dataframe thead th {\n",
       "        text-align: right;\n",
       "    }\n",
       "</style>\n",
       "<table border=\"1\" class=\"dataframe\">\n",
       "  <thead>\n",
       "    <tr style=\"text-align: right;\">\n",
       "      <th></th>\n",
       "      <th>User ID</th>\n",
       "      <th>Gender</th>\n",
       "      <th>Age</th>\n",
       "      <th>EstimatedSalary</th>\n",
       "      <th>Purchased</th>\n",
       "    </tr>\n",
       "  </thead>\n",
       "  <tbody>\n",
       "    <tr>\n",
       "      <th>0</th>\n",
       "      <td>15624510</td>\n",
       "      <td>Male</td>\n",
       "      <td>19</td>\n",
       "      <td>19000</td>\n",
       "      <td>0</td>\n",
       "    </tr>\n",
       "    <tr>\n",
       "      <th>1</th>\n",
       "      <td>15810944</td>\n",
       "      <td>Male</td>\n",
       "      <td>35</td>\n",
       "      <td>20000</td>\n",
       "      <td>0</td>\n",
       "    </tr>\n",
       "    <tr>\n",
       "      <th>2</th>\n",
       "      <td>15668575</td>\n",
       "      <td>Female</td>\n",
       "      <td>26</td>\n",
       "      <td>43000</td>\n",
       "      <td>0</td>\n",
       "    </tr>\n",
       "    <tr>\n",
       "      <th>3</th>\n",
       "      <td>15603246</td>\n",
       "      <td>Female</td>\n",
       "      <td>27</td>\n",
       "      <td>57000</td>\n",
       "      <td>0</td>\n",
       "    </tr>\n",
       "    <tr>\n",
       "      <th>4</th>\n",
       "      <td>15804002</td>\n",
       "      <td>Male</td>\n",
       "      <td>19</td>\n",
       "      <td>76000</td>\n",
       "      <td>0</td>\n",
       "    </tr>\n",
       "    <tr>\n",
       "      <th>...</th>\n",
       "      <td>...</td>\n",
       "      <td>...</td>\n",
       "      <td>...</td>\n",
       "      <td>...</td>\n",
       "      <td>...</td>\n",
       "    </tr>\n",
       "    <tr>\n",
       "      <th>395</th>\n",
       "      <td>15691863</td>\n",
       "      <td>Female</td>\n",
       "      <td>46</td>\n",
       "      <td>41000</td>\n",
       "      <td>1</td>\n",
       "    </tr>\n",
       "    <tr>\n",
       "      <th>396</th>\n",
       "      <td>15706071</td>\n",
       "      <td>Male</td>\n",
       "      <td>51</td>\n",
       "      <td>23000</td>\n",
       "      <td>1</td>\n",
       "    </tr>\n",
       "    <tr>\n",
       "      <th>397</th>\n",
       "      <td>15654296</td>\n",
       "      <td>Female</td>\n",
       "      <td>50</td>\n",
       "      <td>20000</td>\n",
       "      <td>1</td>\n",
       "    </tr>\n",
       "    <tr>\n",
       "      <th>398</th>\n",
       "      <td>15755018</td>\n",
       "      <td>Male</td>\n",
       "      <td>36</td>\n",
       "      <td>33000</td>\n",
       "      <td>0</td>\n",
       "    </tr>\n",
       "    <tr>\n",
       "      <th>399</th>\n",
       "      <td>15594041</td>\n",
       "      <td>Female</td>\n",
       "      <td>49</td>\n",
       "      <td>36000</td>\n",
       "      <td>1</td>\n",
       "    </tr>\n",
       "  </tbody>\n",
       "</table>\n",
       "<p>400 rows × 5 columns</p>\n",
       "</div>"
      ],
      "text/plain": [
       "      User ID  Gender  Age  EstimatedSalary  Purchased\n",
       "0    15624510    Male   19            19000          0\n",
       "1    15810944    Male   35            20000          0\n",
       "2    15668575  Female   26            43000          0\n",
       "3    15603246  Female   27            57000          0\n",
       "4    15804002    Male   19            76000          0\n",
       "..        ...     ...  ...              ...        ...\n",
       "395  15691863  Female   46            41000          1\n",
       "396  15706071    Male   51            23000          1\n",
       "397  15654296  Female   50            20000          1\n",
       "398  15755018    Male   36            33000          0\n",
       "399  15594041  Female   49            36000          1\n",
       "\n",
       "[400 rows x 5 columns]"
      ]
     },
     "execution_count": 3,
     "metadata": {},
     "output_type": "execute_result"
    }
   ],
   "source": [
    "dataset"
   ]
  },
  {
   "cell_type": "code",
   "execution_count": 4,
   "metadata": {},
   "outputs": [
    {
     "data": {
      "text/plain": [
       "(400, 5)"
      ]
     },
     "execution_count": 4,
     "metadata": {},
     "output_type": "execute_result"
    }
   ],
   "source": [
    "#Shape of our DataSet\n",
    "dataset.shape"
   ]
  },
  {
   "cell_type": "code",
   "execution_count": 5,
   "metadata": {},
   "outputs": [],
   "source": [
    "#Splitting DatasSet in Variables X & Y\n",
    "X = dataset.iloc[:, [2, 3]].values\n",
    "y = dataset.iloc[:, 4].values"
   ]
  },
  {
   "cell_type": "code",
   "execution_count": 6,
   "metadata": {},
   "outputs": [],
   "source": [
    "#3 Splitting the dataset into the Training set and Test set\n",
    "\n",
    "from sklearn.model_selection import train_test_split\n",
    "X_train, X_test, y_train, y_test = train_test_split(X, y, test_size = 0.25, random_state = 0)"
   ]
  },
  {
   "cell_type": "code",
   "execution_count": 7,
   "metadata": {},
   "outputs": [],
   "source": [
    "#4 Feature Scaling\n",
    "from sklearn.preprocessing import StandardScaler\n",
    "sc_X = StandardScaler()\n",
    "X_train = sc_X.fit_transform(X_train)\n",
    "X_test = sc_X.transform(X_test)"
   ]
  },
  {
   "cell_type": "code",
   "execution_count": 8,
   "metadata": {},
   "outputs": [
    {
     "data": {
      "text/plain": [
       "array([[ 0.58164944, -0.88670699],\n",
       "       [-0.60673761,  1.46173768],\n",
       "       [-0.01254409, -0.5677824 ],\n",
       "       [-0.60673761,  1.89663484],\n",
       "       [ 1.37390747, -1.40858358],\n",
       "       [ 1.47293972,  0.99784738],\n",
       "       [ 0.08648817, -0.79972756],\n",
       "       [-0.01254409, -0.24885782],\n",
       "       [-0.21060859, -0.5677824 ],\n",
       "       [-0.21060859, -0.19087153],\n",
       "       [-0.30964085, -1.29261101],\n",
       "       [-0.30964085, -0.5677824 ],\n",
       "       [ 0.38358493,  0.09905991],\n",
       "       [ 0.8787462 , -0.59677555],\n",
       "       [ 2.06713324, -1.17663843],\n",
       "       [ 1.07681071, -0.13288524],\n",
       "       [ 0.68068169,  1.78066227],\n",
       "       [-0.70576986,  0.56295021],\n",
       "       [ 0.77971394,  0.35999821],\n",
       "       [ 0.8787462 , -0.53878926],\n",
       "       [-1.20093113, -1.58254245],\n",
       "       [ 2.1661655 ,  0.93986109],\n",
       "       [-0.01254409,  1.22979253],\n",
       "       [ 0.18552042,  1.08482681],\n",
       "       [ 0.38358493, -0.48080297],\n",
       "       [-0.30964085, -0.30684411],\n",
       "       [ 0.97777845, -0.8287207 ],\n",
       "       [ 0.97777845,  1.8676417 ],\n",
       "       [-0.01254409,  1.25878567],\n",
       "       [-0.90383437,  2.27354572],\n",
       "       [-1.20093113, -1.58254245],\n",
       "       [ 2.1661655 , -0.79972756],\n",
       "       [-1.39899564, -1.46656987],\n",
       "       [ 0.38358493,  2.30253886],\n",
       "       [ 0.77971394,  0.76590222],\n",
       "       [-1.00286662, -0.30684411],\n",
       "       [ 0.08648817,  0.76590222],\n",
       "       [-1.00286662,  0.56295021],\n",
       "       [ 0.28455268,  0.07006676],\n",
       "       [ 0.68068169, -1.26361786],\n",
       "       [-0.50770535, -0.01691267],\n",
       "       [-1.79512465,  0.35999821],\n",
       "       [-0.70576986,  0.12805305],\n",
       "       [ 0.38358493,  0.30201192],\n",
       "       [-0.30964085,  0.07006676],\n",
       "       [-0.50770535,  2.30253886],\n",
       "       [ 0.18552042,  0.04107362],\n",
       "       [ 1.27487521,  2.21555943],\n",
       "       [ 0.77971394,  0.27301877],\n",
       "       [-0.30964085,  0.1570462 ],\n",
       "       [-0.01254409, -0.53878926],\n",
       "       [-0.21060859,  0.1570462 ],\n",
       "       [-0.11157634,  0.24402563],\n",
       "       [-0.01254409, -0.24885782],\n",
       "       [ 2.1661655 ,  1.11381995],\n",
       "       [-1.79512465,  0.35999821],\n",
       "       [ 1.86906873,  0.12805305],\n",
       "       [ 0.38358493, -0.13288524],\n",
       "       [-1.20093113,  0.30201192],\n",
       "       [ 0.77971394,  1.37475825],\n",
       "       [-0.30964085, -0.24885782],\n",
       "       [-1.6960924 , -0.04590581],\n",
       "       [-1.00286662, -0.74174127],\n",
       "       [ 0.28455268,  0.50496393],\n",
       "       [-0.11157634, -1.06066585],\n",
       "       [-1.10189888,  0.59194336],\n",
       "       [ 0.08648817, -0.79972756],\n",
       "       [-1.00286662,  1.54871711],\n",
       "       [-0.70576986,  1.40375139],\n",
       "       [-1.29996338,  0.50496393],\n",
       "       [-0.30964085,  0.04107362],\n",
       "       [-0.11157634,  0.01208048],\n",
       "       [-0.30964085, -0.88670699],\n",
       "       [ 0.8787462 , -1.3505973 ],\n",
       "       [-0.30964085,  2.24455257],\n",
       "       [ 0.97777845,  1.98361427],\n",
       "       [-1.20093113,  0.47597078],\n",
       "       [-1.29996338,  0.27301877],\n",
       "       [ 1.37390747,  1.98361427],\n",
       "       [ 1.27487521, -1.3505973 ],\n",
       "       [-0.30964085, -0.27785096],\n",
       "       [-0.50770535,  1.25878567],\n",
       "       [-0.80480212,  1.08482681],\n",
       "       [ 0.97777845, -1.06066585],\n",
       "       [ 0.28455268,  0.30201192],\n",
       "       [ 0.97777845,  0.76590222],\n",
       "       [-0.70576986, -1.49556302],\n",
       "       [-0.70576986,  0.04107362],\n",
       "       [ 0.48261718,  1.72267598],\n",
       "       [ 2.06713324,  0.18603934],\n",
       "       [-1.99318916, -0.74174127],\n",
       "       [-0.21060859,  1.40375139],\n",
       "       [ 0.38358493,  0.59194336],\n",
       "       [ 0.8787462 , -1.14764529],\n",
       "       [-1.20093113, -0.77073441],\n",
       "       [ 0.18552042,  0.24402563],\n",
       "       [ 0.77971394, -0.30684411],\n",
       "       [ 2.06713324, -0.79972756],\n",
       "       [ 0.77971394,  0.12805305],\n",
       "       [-0.30964085,  0.6209365 ],\n",
       "       [-1.00286662, -0.30684411],\n",
       "       [ 0.18552042, -0.3648304 ],\n",
       "       [ 2.06713324,  2.12857999],\n",
       "       [ 1.86906873, -1.26361786],\n",
       "       [ 1.37390747, -0.91570013],\n",
       "       [ 0.8787462 ,  1.25878567],\n",
       "       [ 1.47293972,  2.12857999],\n",
       "       [-0.30964085, -1.23462472],\n",
       "       [ 1.96810099,  0.91086794],\n",
       "       [ 0.68068169, -0.71274813],\n",
       "       [-1.49802789,  0.35999821],\n",
       "       [ 0.77971394, -1.3505973 ],\n",
       "       [ 0.38358493, -0.13288524],\n",
       "       [-1.00286662,  0.41798449],\n",
       "       [-0.01254409, -0.30684411],\n",
       "       [-1.20093113,  0.41798449],\n",
       "       [-0.90383437, -1.20563157],\n",
       "       [-0.11157634,  0.04107362],\n",
       "       [-1.59706014, -0.42281668],\n",
       "       [ 0.97777845, -1.00267957],\n",
       "       [ 1.07681071, -1.20563157],\n",
       "       [-0.01254409, -0.13288524],\n",
       "       [-1.10189888, -1.52455616],\n",
       "       [ 0.77971394, -1.20563157],\n",
       "       [ 0.97777845,  2.07059371],\n",
       "       [-1.20093113, -1.52455616],\n",
       "       [-0.30964085,  0.79489537],\n",
       "       [ 0.08648817, -0.30684411],\n",
       "       [-1.39899564, -1.23462472],\n",
       "       [-0.60673761, -1.49556302],\n",
       "       [ 0.77971394,  0.53395707],\n",
       "       [-0.30964085, -0.33583725],\n",
       "       [ 1.77003648, -0.27785096],\n",
       "       [ 0.8787462 , -1.03167271],\n",
       "       [ 0.18552042,  0.07006676],\n",
       "       [-0.60673761,  0.8818748 ],\n",
       "       [-1.89415691, -1.40858358],\n",
       "       [-1.29996338,  0.59194336],\n",
       "       [-0.30964085,  0.53395707],\n",
       "       [-1.00286662, -1.089659  ],\n",
       "       [ 1.17584296, -1.43757673],\n",
       "       [ 0.18552042, -0.30684411],\n",
       "       [ 1.17584296, -0.74174127],\n",
       "       [-0.30964085,  0.07006676],\n",
       "       [ 0.18552042,  2.09958685],\n",
       "       [ 0.77971394, -1.089659  ],\n",
       "       [ 0.08648817,  0.04107362],\n",
       "       [-1.79512465,  0.12805305],\n",
       "       [-0.90383437,  0.1570462 ],\n",
       "       [-0.70576986,  0.18603934],\n",
       "       [ 0.8787462 , -1.29261101],\n",
       "       [ 0.18552042, -0.24885782],\n",
       "       [-0.4086731 ,  1.22979253],\n",
       "       [-0.01254409,  0.30201192],\n",
       "       [ 0.38358493,  0.1570462 ],\n",
       "       [ 0.8787462 , -0.65476184],\n",
       "       [ 0.08648817,  0.1570462 ],\n",
       "       [-1.89415691, -1.29261101],\n",
       "       [-0.11157634,  0.30201192],\n",
       "       [-0.21060859, -0.27785096],\n",
       "       [ 0.28455268, -0.50979612],\n",
       "       [-0.21060859,  1.6067034 ],\n",
       "       [ 0.97777845, -1.17663843],\n",
       "       [-0.21060859,  1.63569655],\n",
       "       [ 1.27487521,  1.8676417 ],\n",
       "       [-1.10189888, -0.3648304 ],\n",
       "       [-0.01254409,  0.04107362],\n",
       "       [ 0.08648817, -0.24885782],\n",
       "       [-1.59706014, -1.23462472],\n",
       "       [-0.50770535, -0.27785096],\n",
       "       [ 0.97777845,  0.12805305],\n",
       "       [ 1.96810099, -1.3505973 ],\n",
       "       [ 1.47293972,  0.07006676],\n",
       "       [-0.60673761,  1.37475825],\n",
       "       [ 1.57197197,  0.01208048],\n",
       "       [-0.80480212,  0.30201192],\n",
       "       [ 1.96810099,  0.73690908],\n",
       "       [-1.20093113, -0.50979612],\n",
       "       [ 0.68068169,  0.27301877],\n",
       "       [-1.39899564, -0.42281668],\n",
       "       [ 0.18552042,  0.1570462 ],\n",
       "       [-0.50770535, -1.20563157],\n",
       "       [ 0.58164944,  2.01260742],\n",
       "       [-1.59706014, -1.49556302],\n",
       "       [-0.50770535, -0.53878926],\n",
       "       [ 0.48261718,  1.83864855],\n",
       "       [-1.39899564, -1.089659  ],\n",
       "       [ 0.77971394, -1.37959044],\n",
       "       [-0.30964085, -0.42281668],\n",
       "       [ 1.57197197,  0.99784738],\n",
       "       [ 0.97777845,  1.43274454],\n",
       "       [-0.30964085, -0.48080297],\n",
       "       [-0.11157634,  2.15757314],\n",
       "       [-1.49802789, -0.1038921 ],\n",
       "       [-0.11157634,  1.95462113],\n",
       "       [-0.70576986, -0.33583725],\n",
       "       [-0.50770535, -0.8287207 ],\n",
       "       [ 0.68068169, -1.37959044],\n",
       "       [-0.80480212, -1.58254245],\n",
       "       [-1.89415691, -1.46656987],\n",
       "       [ 1.07681071,  0.12805305],\n",
       "       [ 0.08648817,  1.51972397],\n",
       "       [-0.30964085,  0.09905991],\n",
       "       [ 0.08648817,  0.04107362],\n",
       "       [-1.39899564, -1.3505973 ],\n",
       "       [ 0.28455268,  0.07006676],\n",
       "       [-0.90383437,  0.38899135],\n",
       "       [ 1.57197197, -1.26361786],\n",
       "       [-0.30964085, -0.74174127],\n",
       "       [-0.11157634,  0.1570462 ],\n",
       "       [-0.90383437, -0.65476184],\n",
       "       [-0.70576986, -0.04590581],\n",
       "       [ 0.38358493, -0.45180983],\n",
       "       [-0.80480212,  1.89663484],\n",
       "       [ 1.37390747,  1.28777882],\n",
       "       [ 1.17584296, -0.97368642],\n",
       "       [ 1.77003648,  1.83864855],\n",
       "       [-0.90383437, -0.24885782],\n",
       "       [-0.80480212,  0.56295021],\n",
       "       [-1.20093113, -1.5535493 ],\n",
       "       [-0.50770535, -1.11865214],\n",
       "       [ 0.28455268,  0.07006676],\n",
       "       [-0.21060859, -1.06066585],\n",
       "       [ 1.67100423,  1.6067034 ],\n",
       "       [ 0.97777845,  1.78066227],\n",
       "       [ 0.28455268,  0.04107362],\n",
       "       [-0.80480212, -0.21986468],\n",
       "       [-0.11157634,  0.07006676],\n",
       "       [ 0.28455268, -0.19087153],\n",
       "       [ 1.96810099, -0.65476184],\n",
       "       [-0.80480212,  1.3457651 ],\n",
       "       [-1.79512465, -0.59677555],\n",
       "       [-0.11157634,  0.12805305],\n",
       "       [ 0.28455268, -0.30684411],\n",
       "       [ 1.07681071,  0.56295021],\n",
       "       [-1.00286662,  0.27301877],\n",
       "       [ 1.47293972,  0.35999821],\n",
       "       [ 0.18552042, -0.3648304 ],\n",
       "       [ 2.1661655 , -1.03167271],\n",
       "       [-0.30964085,  1.11381995],\n",
       "       [-1.6960924 ,  0.07006676],\n",
       "       [-0.01254409,  0.04107362],\n",
       "       [ 0.08648817,  1.05583366],\n",
       "       [-0.11157634, -0.3648304 ],\n",
       "       [-1.20093113,  0.07006676],\n",
       "       [-0.30964085, -1.3505973 ],\n",
       "       [ 1.57197197,  1.11381995],\n",
       "       [-0.80480212, -1.52455616],\n",
       "       [ 0.08648817,  1.8676417 ],\n",
       "       [-0.90383437, -0.77073441],\n",
       "       [-0.50770535, -0.77073441],\n",
       "       [-0.30964085, -0.91570013],\n",
       "       [ 0.28455268, -0.71274813],\n",
       "       [ 0.28455268,  0.07006676],\n",
       "       [ 0.08648817,  1.8676417 ],\n",
       "       [-1.10189888,  1.95462113],\n",
       "       [-1.6960924 , -1.5535493 ],\n",
       "       [-1.20093113, -1.089659  ],\n",
       "       [-0.70576986, -0.1038921 ],\n",
       "       [ 0.08648817,  0.09905991],\n",
       "       [ 0.28455268,  0.27301877],\n",
       "       [ 0.8787462 , -0.5677824 ],\n",
       "       [ 0.28455268, -1.14764529],\n",
       "       [-0.11157634,  0.67892279],\n",
       "       [ 2.1661655 , -0.68375498],\n",
       "       [-1.29996338, -1.37959044],\n",
       "       [-1.00286662, -0.94469328],\n",
       "       [-0.01254409, -0.42281668],\n",
       "       [-0.21060859, -0.45180983],\n",
       "       [-1.79512465, -0.97368642],\n",
       "       [ 1.77003648,  0.99784738],\n",
       "       [ 0.18552042, -0.3648304 ],\n",
       "       [ 0.38358493,  1.11381995],\n",
       "       [-1.79512465, -1.3505973 ],\n",
       "       [ 0.18552042, -0.13288524],\n",
       "       [ 0.8787462 , -1.43757673],\n",
       "       [-1.99318916,  0.47597078],\n",
       "       [-0.30964085,  0.27301877],\n",
       "       [ 1.86906873, -1.06066585],\n",
       "       [-0.4086731 ,  0.07006676],\n",
       "       [ 1.07681071, -0.88670699],\n",
       "       [-1.10189888, -1.11865214],\n",
       "       [-1.89415691,  0.01208048],\n",
       "       [ 0.08648817,  0.27301877],\n",
       "       [-1.20093113,  0.33100506],\n",
       "       [-1.29996338,  0.30201192],\n",
       "       [-1.00286662,  0.44697764],\n",
       "       [ 1.67100423, -0.88670699],\n",
       "       [ 1.17584296,  0.53395707],\n",
       "       [ 1.07681071,  0.53395707],\n",
       "       [ 1.37390747,  2.331532  ],\n",
       "       [-0.30964085, -0.13288524],\n",
       "       [ 0.38358493, -0.45180983],\n",
       "       [-0.4086731 , -0.77073441],\n",
       "       [-0.11157634, -0.50979612],\n",
       "       [ 0.97777845, -1.14764529],\n",
       "       [-0.90383437, -0.77073441],\n",
       "       [-0.21060859, -0.50979612],\n",
       "       [-1.10189888, -0.45180983],\n",
       "       [-1.20093113,  1.40375139]])"
      ]
     },
     "execution_count": 8,
     "metadata": {},
     "output_type": "execute_result"
    }
   ],
   "source": [
    "X_train"
   ]
  },
  {
   "cell_type": "code",
   "execution_count": 9,
   "metadata": {
    "scrolled": false
   },
   "outputs": [
    {
     "data": {
      "text/plain": [
       "array([[-0.80480212,  0.50496393],\n",
       "       [-0.01254409, -0.5677824 ],\n",
       "       [-0.30964085,  0.1570462 ],\n",
       "       [-0.80480212,  0.27301877],\n",
       "       [-0.30964085, -0.5677824 ],\n",
       "       [-1.10189888, -1.43757673],\n",
       "       [-0.70576986, -1.58254245],\n",
       "       [-0.21060859,  2.15757314],\n",
       "       [-1.99318916, -0.04590581],\n",
       "       [ 0.8787462 , -0.77073441],\n",
       "       [-0.80480212, -0.59677555],\n",
       "       [-1.00286662, -0.42281668],\n",
       "       [-0.11157634, -0.42281668],\n",
       "       [ 0.08648817,  0.21503249],\n",
       "       [-1.79512465,  0.47597078],\n",
       "       [-0.60673761,  1.37475825],\n",
       "       [-0.11157634,  0.21503249],\n",
       "       [-1.89415691,  0.44697764],\n",
       "       [ 1.67100423,  1.75166912],\n",
       "       [-0.30964085, -1.37959044],\n",
       "       [-0.30964085, -0.65476184],\n",
       "       [ 0.8787462 ,  2.15757314],\n",
       "       [ 0.28455268, -0.53878926],\n",
       "       [ 0.8787462 ,  1.02684052],\n",
       "       [-1.49802789, -1.20563157],\n",
       "       [ 1.07681071,  2.07059371],\n",
       "       [-1.00286662,  0.50496393],\n",
       "       [-0.90383437,  0.30201192],\n",
       "       [-0.11157634, -0.21986468],\n",
       "       [-0.60673761,  0.47597078],\n",
       "       [-1.6960924 ,  0.53395707],\n",
       "       [-0.11157634,  0.27301877],\n",
       "       [ 1.86906873, -0.27785096],\n",
       "       [-0.11157634, -0.48080297],\n",
       "       [-1.39899564, -0.33583725],\n",
       "       [-1.99318916, -0.50979612],\n",
       "       [-1.59706014,  0.33100506],\n",
       "       [-0.4086731 , -0.77073441],\n",
       "       [-0.70576986, -1.03167271],\n",
       "       [ 1.07681071, -0.97368642],\n",
       "       [-1.10189888,  0.53395707],\n",
       "       [ 0.28455268, -0.50979612],\n",
       "       [-1.10189888,  0.41798449],\n",
       "       [-0.30964085, -1.43757673],\n",
       "       [ 0.48261718,  1.22979253],\n",
       "       [-1.10189888, -0.33583725],\n",
       "       [-0.11157634,  0.30201192],\n",
       "       [ 1.37390747,  0.59194336],\n",
       "       [-1.20093113, -1.14764529],\n",
       "       [ 1.07681071,  0.47597078],\n",
       "       [ 1.86906873,  1.51972397],\n",
       "       [-0.4086731 , -1.29261101],\n",
       "       [-0.30964085, -0.3648304 ],\n",
       "       [-0.4086731 ,  1.31677196],\n",
       "       [ 2.06713324,  0.53395707],\n",
       "       [ 0.68068169, -1.089659  ],\n",
       "       [-0.90383437,  0.38899135],\n",
       "       [-1.20093113,  0.30201192],\n",
       "       [ 1.07681071, -1.20563157],\n",
       "       [-1.49802789, -1.43757673],\n",
       "       [-0.60673761, -1.49556302],\n",
       "       [ 2.1661655 , -0.79972756],\n",
       "       [-1.89415691,  0.18603934],\n",
       "       [-0.21060859,  0.85288166],\n",
       "       [-1.89415691, -1.26361786],\n",
       "       [ 2.1661655 ,  0.38899135],\n",
       "       [-1.39899564,  0.56295021],\n",
       "       [-1.10189888, -0.33583725],\n",
       "       [ 0.18552042, -0.65476184],\n",
       "       [ 0.38358493,  0.01208048],\n",
       "       [-0.60673761,  2.331532  ],\n",
       "       [-0.30964085,  0.21503249],\n",
       "       [-1.59706014, -0.19087153],\n",
       "       [ 0.68068169, -1.37959044],\n",
       "       [-1.10189888,  0.56295021],\n",
       "       [-1.99318916,  0.35999821],\n",
       "       [ 0.38358493,  0.27301877],\n",
       "       [ 0.18552042, -0.27785096],\n",
       "       [ 1.47293972, -1.03167271],\n",
       "       [ 0.8787462 ,  1.08482681],\n",
       "       [ 1.96810099,  2.15757314],\n",
       "       [ 2.06713324,  0.38899135],\n",
       "       [-1.39899564, -0.42281668],\n",
       "       [-1.20093113, -1.00267957],\n",
       "       [ 1.96810099, -0.91570013],\n",
       "       [ 0.38358493,  0.30201192],\n",
       "       [ 0.18552042,  0.1570462 ],\n",
       "       [ 2.06713324,  1.75166912],\n",
       "       [ 0.77971394, -0.8287207 ],\n",
       "       [ 0.28455268, -0.27785096],\n",
       "       [ 0.38358493, -0.16187839],\n",
       "       [-0.11157634,  2.21555943],\n",
       "       [-1.49802789, -0.62576869],\n",
       "       [-1.29996338, -1.06066585],\n",
       "       [-1.39899564,  0.41798449],\n",
       "       [-1.10189888,  0.76590222],\n",
       "       [-1.49802789, -0.19087153],\n",
       "       [ 0.97777845, -1.06066585],\n",
       "       [ 0.97777845,  0.59194336],\n",
       "       [ 0.38358493,  0.99784738]])"
      ]
     },
     "execution_count": 9,
     "metadata": {},
     "output_type": "execute_result"
    }
   ],
   "source": [
    "X_test"
   ]
  },
  {
   "cell_type": "code",
   "execution_count": 10,
   "metadata": {},
   "outputs": [
    {
     "data": {
      "text/plain": [
       "LogisticRegression(C=1.0, class_weight=None, dual=False, fit_intercept=True,\n",
       "                   intercept_scaling=1, l1_ratio=None, max_iter=100,\n",
       "                   multi_class='auto', n_jobs=None, penalty='l2',\n",
       "                   random_state=0, solver='lbfgs', tol=0.0001, verbose=0,\n",
       "                   warm_start=False)"
      ]
     },
     "execution_count": 10,
     "metadata": {},
     "output_type": "execute_result"
    }
   ],
   "source": [
    "#5 Fitting the Logistic Regression to the Training Set: \n",
    "#Import the LogisticRegression class from the sklearn.linear_model\n",
    "#library\n",
    "\n",
    "from sklearn.linear_model import LogisticRegression\n",
    "\n",
    "classifier= LogisticRegression(random_state=0)\n",
    "\n",
    "#Fit logistic regression model to the training set (X_train and #y_train)\n",
    "classifier.fit(X_train, y_train)"
   ]
  },
  {
   "cell_type": "code",
   "execution_count": 11,
   "metadata": {},
   "outputs": [],
   "source": [
    "#6 Predicting the Test set results\n",
    "#Using predict method for the classifier object and put X_test for #argument\n",
    "\n",
    "y_pred = classifier.predict(X_test)"
   ]
  },
  {
   "cell_type": "code",
   "execution_count": 12,
   "metadata": {},
   "outputs": [
    {
     "data": {
      "text/plain": [
       "array([0, 0, 0, 0, 0, 0, 0, 1, 0, 1, 0, 0, 0, 0, 0, 0, 0, 0, 1, 0, 0, 1,\n",
       "       0, 1, 0, 1, 0, 0, 0, 0, 0, 0, 1, 0, 0, 0, 0, 0, 0, 1, 0, 0, 0, 0,\n",
       "       1, 0, 0, 1, 0, 1, 1, 0, 0, 0, 1, 0, 0, 0, 0, 0, 0, 1, 0, 0, 0, 1,\n",
       "       0, 0, 0, 0, 1, 0, 0, 0, 0, 0, 1, 0, 1, 1, 1, 1, 0, 0, 1, 1, 0, 1,\n",
       "       0, 0, 0, 1, 0, 0, 0, 0, 0, 0, 1, 1], dtype=int64)"
      ]
     },
     "execution_count": 12,
     "metadata": {},
     "output_type": "execute_result"
    }
   ],
   "source": [
    "y_pred"
   ]
  },
  {
   "cell_type": "code",
   "execution_count": 13,
   "metadata": {
    "scrolled": true
   },
   "outputs": [
    {
     "data": {
      "text/plain": [
       "array([0, 0, 0, 0, 0, 0, 0, 1, 0, 0, 0, 0, 0, 0, 0, 0, 0, 0, 1, 0, 0, 1,\n",
       "       0, 1, 0, 1, 0, 0, 0, 0, 0, 1, 1, 0, 0, 0, 0, 0, 0, 1, 0, 0, 0, 0,\n",
       "       1, 0, 0, 1, 0, 1, 1, 0, 0, 0, 1, 1, 0, 0, 1, 0, 0, 1, 0, 1, 0, 1,\n",
       "       0, 0, 0, 0, 1, 0, 0, 1, 0, 0, 0, 0, 1, 1, 1, 0, 0, 0, 1, 1, 0, 1,\n",
       "       1, 0, 0, 1, 0, 0, 0, 1, 0, 1, 1, 1], dtype=int64)"
      ]
     },
     "execution_count": 13,
     "metadata": {},
     "output_type": "execute_result"
    }
   ],
   "source": [
    "y_test"
   ]
  },
  {
   "cell_type": "code",
   "execution_count": 14,
   "metadata": {},
   "outputs": [],
   "source": [
    "df1 = pd.DataFrame({'Actual':y_test.flatten() , 'Predicted':y_pred.flatten()})"
   ]
  },
  {
   "cell_type": "code",
   "execution_count": 15,
   "metadata": {},
   "outputs": [
    {
     "data": {
      "text/html": [
       "<div>\n",
       "<style scoped>\n",
       "    .dataframe tbody tr th:only-of-type {\n",
       "        vertical-align: middle;\n",
       "    }\n",
       "\n",
       "    .dataframe tbody tr th {\n",
       "        vertical-align: top;\n",
       "    }\n",
       "\n",
       "    .dataframe thead th {\n",
       "        text-align: right;\n",
       "    }\n",
       "</style>\n",
       "<table border=\"1\" class=\"dataframe\">\n",
       "  <thead>\n",
       "    <tr style=\"text-align: right;\">\n",
       "      <th></th>\n",
       "      <th>Actual</th>\n",
       "      <th>Predicted</th>\n",
       "    </tr>\n",
       "  </thead>\n",
       "  <tbody>\n",
       "    <tr>\n",
       "      <th>0</th>\n",
       "      <td>0</td>\n",
       "      <td>0</td>\n",
       "    </tr>\n",
       "    <tr>\n",
       "      <th>1</th>\n",
       "      <td>0</td>\n",
       "      <td>0</td>\n",
       "    </tr>\n",
       "    <tr>\n",
       "      <th>2</th>\n",
       "      <td>0</td>\n",
       "      <td>0</td>\n",
       "    </tr>\n",
       "    <tr>\n",
       "      <th>3</th>\n",
       "      <td>0</td>\n",
       "      <td>0</td>\n",
       "    </tr>\n",
       "    <tr>\n",
       "      <th>4</th>\n",
       "      <td>0</td>\n",
       "      <td>0</td>\n",
       "    </tr>\n",
       "    <tr>\n",
       "      <th>...</th>\n",
       "      <td>...</td>\n",
       "      <td>...</td>\n",
       "    </tr>\n",
       "    <tr>\n",
       "      <th>95</th>\n",
       "      <td>1</td>\n",
       "      <td>0</td>\n",
       "    </tr>\n",
       "    <tr>\n",
       "      <th>96</th>\n",
       "      <td>0</td>\n",
       "      <td>0</td>\n",
       "    </tr>\n",
       "    <tr>\n",
       "      <th>97</th>\n",
       "      <td>1</td>\n",
       "      <td>0</td>\n",
       "    </tr>\n",
       "    <tr>\n",
       "      <th>98</th>\n",
       "      <td>1</td>\n",
       "      <td>1</td>\n",
       "    </tr>\n",
       "    <tr>\n",
       "      <th>99</th>\n",
       "      <td>1</td>\n",
       "      <td>1</td>\n",
       "    </tr>\n",
       "  </tbody>\n",
       "</table>\n",
       "<p>100 rows × 2 columns</p>\n",
       "</div>"
      ],
      "text/plain": [
       "    Actual  Predicted\n",
       "0        0          0\n",
       "1        0          0\n",
       "2        0          0\n",
       "3        0          0\n",
       "4        0          0\n",
       "..     ...        ...\n",
       "95       1          0\n",
       "96       0          0\n",
       "97       1          0\n",
       "98       1          1\n",
       "99       1          1\n",
       "\n",
       "[100 rows x 2 columns]"
      ]
     },
     "execution_count": 15,
     "metadata": {},
     "output_type": "execute_result"
    }
   ],
   "source": [
    "df1"
   ]
  },
  {
   "cell_type": "code",
   "execution_count": 16,
   "metadata": {
    "scrolled": true
   },
   "outputs": [
    {
     "data": {
      "text/html": [
       "<div>\n",
       "<style scoped>\n",
       "    .dataframe tbody tr th:only-of-type {\n",
       "        vertical-align: middle;\n",
       "    }\n",
       "\n",
       "    .dataframe tbody tr th {\n",
       "        vertical-align: top;\n",
       "    }\n",
       "\n",
       "    .dataframe thead th {\n",
       "        text-align: right;\n",
       "    }\n",
       "</style>\n",
       "<table border=\"1\" class=\"dataframe\">\n",
       "  <thead>\n",
       "    <tr style=\"text-align: right;\">\n",
       "      <th></th>\n",
       "      <th>Actual</th>\n",
       "      <th>Predicted</th>\n",
       "    </tr>\n",
       "  </thead>\n",
       "  <tbody>\n",
       "    <tr>\n",
       "      <th>90</th>\n",
       "      <td>0</td>\n",
       "      <td>0</td>\n",
       "    </tr>\n",
       "    <tr>\n",
       "      <th>91</th>\n",
       "      <td>1</td>\n",
       "      <td>1</td>\n",
       "    </tr>\n",
       "    <tr>\n",
       "      <th>92</th>\n",
       "      <td>0</td>\n",
       "      <td>0</td>\n",
       "    </tr>\n",
       "    <tr>\n",
       "      <th>93</th>\n",
       "      <td>0</td>\n",
       "      <td>0</td>\n",
       "    </tr>\n",
       "    <tr>\n",
       "      <th>94</th>\n",
       "      <td>0</td>\n",
       "      <td>0</td>\n",
       "    </tr>\n",
       "    <tr>\n",
       "      <th>95</th>\n",
       "      <td>1</td>\n",
       "      <td>0</td>\n",
       "    </tr>\n",
       "    <tr>\n",
       "      <th>96</th>\n",
       "      <td>0</td>\n",
       "      <td>0</td>\n",
       "    </tr>\n",
       "    <tr>\n",
       "      <th>97</th>\n",
       "      <td>1</td>\n",
       "      <td>0</td>\n",
       "    </tr>\n",
       "    <tr>\n",
       "      <th>98</th>\n",
       "      <td>1</td>\n",
       "      <td>1</td>\n",
       "    </tr>\n",
       "    <tr>\n",
       "      <th>99</th>\n",
       "      <td>1</td>\n",
       "      <td>1</td>\n",
       "    </tr>\n",
       "  </tbody>\n",
       "</table>\n",
       "</div>"
      ],
      "text/plain": [
       "    Actual  Predicted\n",
       "90       0          0\n",
       "91       1          1\n",
       "92       0          0\n",
       "93       0          0\n",
       "94       0          0\n",
       "95       1          0\n",
       "96       0          0\n",
       "97       1          0\n",
       "98       1          1\n",
       "99       1          1"
      ]
     },
     "execution_count": 16,
     "metadata": {},
     "output_type": "execute_result"
    }
   ],
   "source": [
    "df2 = df1[90:100]\n",
    "df2"
   ]
  },
  {
   "cell_type": "code",
   "execution_count": 17,
   "metadata": {},
   "outputs": [
    {
     "data": {
      "text/plain": [
       "<matplotlib.axes._subplots.AxesSubplot at 0x116717dca48>"
      ]
     },
     "execution_count": 17,
     "metadata": {},
     "output_type": "execute_result"
    },
    {
     "data": {
      "image/png": "[encoded data removed]",
      "text/plain": [
       "<Figure size 432x288 with 1 Axes>"
      ]
     },
     "metadata": {
      "needs_background": "light"
     },
     "output_type": "display_data"
    }
   ],
   "source": [
    "df2.plot()"
   ]
  },
  {
   "cell_type": "code",
   "execution_count": 18,
   "metadata": {},
   "outputs": [
    {
     "data": {
      "text/plain": [
       "89.0"
      ]
     },
     "execution_count": 18,
     "metadata": {},
     "output_type": "execute_result"
    }
   ],
   "source": [
    "#Check The Accuracy from sklearn.metrics import accuracy_score\n",
    "from sklearn.metrics import accuracy_score\n",
    "accuracy_score(y_test,y_pred)*100"
   ]
  },
  {
   "cell_type": "code",
   "execution_count": 19,
   "metadata": {},
   "outputs": [],
   "source": [
    "#7 Making the Confusion Matrix. It contains the correct and #incorrect predictions of our model \n",
    "#import confusion_matrix function from sklearn.metrics library\n",
    "\n",
    "from sklearn.metrics import confusion_matrix\n",
    "\n",
    "#y_true parameter will be y_test\n",
    "#y_pred is the logistic regression model prediction\n",
    "\n",
    "cm=confusion_matrix(y_test, y_pred)"
   ]
  },
  {
   "cell_type": "code",
   "execution_count": 20,
   "metadata": {},
   "outputs": [
    {
     "data": {
      "text/plain": [
       "array([[65,  3],\n",
       "       [ 8, 24]], dtype=int64)"
      ]
     },
     "execution_count": 20,
     "metadata": {},
     "output_type": "execute_result"
    }
   ],
   "source": [
    "cm"
   ]
  },
  {
   "cell_type": "code",
   "execution_count": 21,
   "metadata": {},
   "outputs": [],
   "source": [
    "#cm=[[65, 3], [ 8, 24]] means totally 89 correct and 11 incorrect prediction in this model. \n",
    "#(65+24 = 89 Correct) and (8+3 = 11 Incorrect)"
   ]
  },
  {
   "cell_type": "code",
   "execution_count": 22,
   "metadata": {},
   "outputs": [],
   "source": [
    "# END\n",
    "# Extras:-"
   ]
  },
  {
   "cell_type": "code",
   "execution_count": 23,
   "metadata": {},
   "outputs": [
    {
     "name": "stderr",
     "output_type": "stream",
     "text": [
      "'c' argument looks like a single numeric RGB or RGBA sequence, which should be avoided as value-mapping will have precedence in case its length matches with 'x' & 'y'.  Please use a 2-D array with a single row if you really want to specify the same RGB or RGBA value for all points.\n",
      "'c' argument looks like a single numeric RGB or RGBA sequence, which should be avoided as value-mapping will have precedence in case its length matches with 'x' & 'y'.  Please use a 2-D array with a single row if you really want to specify the same RGB or RGBA value for all points.\n"
     ]
    },
    {
     "data": {
      "image/png": "[encoded data removed]",
      "text/plain": [
       "<Figure size 432x288 with 1 Axes>"
      ]
     },
     "metadata": {
      "needs_background": "light"
     },
     "output_type": "display_data"
    }
   ],
   "source": [
    "#8 Visualizing the Training Set results: \n",
    "#ListedColormap class help us to colorize the data points.\n",
    "from matplotlib.colors import ListedColormap\n",
    "#Create local variables X_set and y_set. Because we use these #variables again in the test set\n",
    "X_set, y_set= X_train, y_train\n",
    "#Create the grid. step=0.01 means all the pixels were actually with #a 0.01 resolution. min and max of the \n",
    "#X_Set use with minus ana plus one to prevent ponits to be squeezed #on the axes.\n",
    "X1,X2 = np.meshgrid(np.arange(start =X_set[:, 0].min() -1, stop=X_set[:, 0].max()+1, step = 0.01),\n",
    "                    np.arange(start =X_set[:, 1].min() -1, stop=X_set[:, 1].max()+1, step = 0.01))\n",
    "#This is the line applying the classifier on all the pixel #observation points. It colors all the red pixel \n",
    "#points and the blue pixel points. contour function make the contour #between red and blue regions.\n",
    "plt.contourf(X1,X2, classifier.predict(np.array([X1.ravel(), X2.ravel()]).T).reshape(X1.shape),alpha=0.75, \n",
    "             cmap = ListedColormap(('red','blue')))\n",
    "#plot the limits of the age and the estimated salary lines.\n",
    "plt.xlim((X1.min(),X1.max()))\n",
    "plt.ylim((X2.min(),X2.max()))\n",
    "#This loop here plots all the data points that are the real values.\n",
    " \n",
    "for i,j in enumerate(np.unique(y_set)):\n",
    "     plt.scatter(X_set[y_set==j,0], X_set[y_set==j,1], c= ListedColormap(('red','blue'))(i) ,label= j)\n",
    "#Add the name of the plot and the labels.\n",
    "plt.title('Logistic Regression(Training Set)')\n",
    "plt.xlabel('Age')\n",
    "plt.ylabel('Estimated Salary')\n",
    "plt.legend()\n",
    "plt.show()"
   ]
  },
  {
   "cell_type": "code",
   "execution_count": 24,
   "metadata": {},
   "outputs": [
    {
     "name": "stderr",
     "output_type": "stream",
     "text": [
      "'c' argument looks like a single numeric RGB or RGBA sequence, which should be avoided as value-mapping will have precedence in case its length matches with 'x' & 'y'.  Please use a 2-D array with a single row if you really want to specify the same RGB or RGBA value for all points.\n",
      "'c' argument looks like a single numeric RGB or RGBA sequence, which should be avoided as value-mapping will have precedence in case its length matches with 'x' & 'y'.  Please use a 2-D array with a single row if you really want to specify the same RGB or RGBA value for all points.\n"
     ]
    },
    {
     "data": {
      "image/png": "[encoded data removed]",
      "text/plain": [
       "<Figure size 432x288 with 1 Axes>"
      ]
     },
     "metadata": {
      "needs_background": "light"
     },
     "output_type": "display_data"
    }
   ],
   "source": [
    "#9 Visualizing the Test Set results:\n",
    "from matplotlib.colors import ListedColormap\n",
    "X_set, y_set= X_test, y_test\n",
    "X1,X2 = np.meshgrid(np.arange(start =X_set[:, 0].min() -1, stop=X_set[:, 0].max()+1, step = 0.01),\n",
    "                    np.arange(start =X_set[:, 1].min() -1, stop=X_set[:, 1].max()+1, step = 0.01))\n",
    "plt.contourf(X1,X2, classifier.predict(np.array([X1.ravel(), X2.ravel()]).T).reshape(X1.shape),alpha=0.75, \n",
    "             cmap = ListedColormap(('red','blue')))\n",
    "plt.xlim((X1.min(),X1.max()))\n",
    "plt.ylim((X2.min(),X2.max()))\n",
    "for i,j in enumerate(np.unique(y_set)):\n",
    "     plt.scatter(X_set[y_set==j,0], X_set[y_set==j,1], c= ListedColormap(('red','blue'))(i) ,label= j) \n",
    "plt.title('Logistic Regression(Test Set)')\n",
    "plt.xlabel('Age')\n",
    "plt.ylabel('Estimated Salary')\n",
    "plt.legend()\n",
    "plt.show()"
   ]
  },
  {
   "cell_type": "code",
   "execution_count": null,
   "metadata": {},
   "outputs": [],
   "source": []
  }
 ],
 "metadata": {
  "kernelspec": {
   "display_name": "Python 3",
   "language": "python",
   "name": "python3"
  },
  "language_info": {
   "codemirror_mode": {
    "name": "ipython",
    "version": 3
   },
   "file_extension": ".py",
   "mimetype": "text/x-python",
   "name": "python",
   "nbconvert_exporter": "python",
   "pygments_lexer": "ipython3",
   "version": "3.7.6"
  }
 },
 "nbformat": 4,
 "nbformat_minor": 4
}
